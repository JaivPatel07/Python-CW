{
 "cells": [
  {
   "cell_type": "markdown",
   "metadata": {},
   "source": [
    "**GRADE-LEVEL  BASIC-PAY  OTHER-ALLOWANCES**\n",
    "\n",
    "     A           60000       8000\n",
    "     B           50000       7000\n",
    "     C           40000       6000\n",
    "     D           30000       5000\n",
    "     F           20000       4000\n",
    "     E           10000       3000\n",
    "     \n",
    "     Gross-pay=Basic-pay+HRA+DA+other-allowence+TA-professional-Tax-EPF\n",
    "     \n",
    "    HRA\n",
    "    \n",
    "    city\n",
    "    \n",
    "    class-1   0.3 of basic pay\n",
    "    class-2   0.2 of basic pay\n",
    "    class-3   0.1 of basic pay\n",
    "    \n",
    "    professional-tax 200/month\n",
    "    \n",
    "    DA - 0.5 times of basic pay\n",
    "    EPF - 0.11 times of basic pay\n",
    "    TA - 900/month\n",
    "    \n",
    "    \n",
    "    input grade-level,city-class,\n",
    "    \n",
    "    \n",
    "    Amount                          Tax-Rate\n",
    "    \n",
    "    upto 2,50,000                    0%\n",
    "    2,50,0000 to 5,00,000            3% above 2,50,000\n",
    "    5,00,001 to 7,50,000             10% above 5,00,000+12500\n",
    "    7,50,001 to 10,00,000            15% above 7,50,000+37\n",
    "    10,00,001 to 12,50,000           20% above 10,00,000+75000\n",
    "    12,50,001 to 15,00,000           25% above 12,50,000+1,25,000\n",
    "    above 15,00,0001                 30% above 15,00,000+1,87,500"
   ]
  },
  {
   "cell_type": "code",
   "execution_count": 24,
   "metadata": {},
   "outputs": [
    {
     "name": "stdout",
     "output_type": "stream",
     "text": [
      "ENTER GRADE-LEVELA\n",
      "ENTER CITY CLASSclass-1\n",
      "1321200.0\n",
      "GROSS PAY = 110100.0\n",
      "ANUAL PAY = 1321200.0\n",
      "TAX 39636.0\n"
     ]
    }
   ],
   "source": [
    "grade=input(\"ENTER GRADE-LEVEL\")\n",
    "city=input(\"ENTER CITY CLASS\")\n",
    "ta=900\n",
    "pt=200\n",
    "grosspay=0\n",
    "hra=0\n",
    "ap=0\n",
    "tax=0\n",
    "if grade=='A' :\n",
    "    basic=60000\n",
    "    oa=8000\n",
    "    da=0.5*basic\n",
    "    epf=0.11*basic\n",
    "    if city==\"class-1\"   :\n",
    "        hra=basic*0.3\n",
    "    elif city==\"class-2\" :\n",
    "        hra=0.2*basic\n",
    "    elif city==\"class-3\" :\n",
    "        hra=0.1*basic\n",
    "    else :        \n",
    "        print(\"ENTER VALID CLASS\")\n",
    "        \n",
    "    grosspay=basic+hra+da+oa+ta-pt-epf\n",
    "    \n",
    "elif grade=='B' :\n",
    "    basic=50000\n",
    "    oa=7000\n",
    "    da=0.5*basic\n",
    "    epf=0.11*basic\n",
    "    if city==\"class-1\"   :\n",
    "        hra=basic*0.3\n",
    "    elif city==\"class-2\" :\n",
    "        hra=0.2*basic\n",
    "    elif city==\"class-3\" :\n",
    "        hra=0.1*basic\n",
    "    else :        \n",
    "        print(\"ENTER VALID CLASS\")\n",
    "    \n",
    "    grosspay=basic+hra+da+oa+ta-pt-epf    \n",
    "    \n",
    "elif grade=='C' :\n",
    "    basic=40000\n",
    "    oa=6000\n",
    "    da=0.5*basic\n",
    "    epf=0.11*basic\n",
    "    if city==\"class-1\"   :\n",
    "        hra=basic*0.3\n",
    "    elif city==\"class-2\" :\n",
    "        hra=0.2*basic\n",
    "    elif city==\"class-3\" :\n",
    "        hra=0.1*basic\n",
    "    else :        \n",
    "        print(\"ENTER VALID CLASS\")\n",
    "    \n",
    "    grosspay=basic+hra+da+oa+ta-pt-epf     \n",
    "    \n",
    "elif grade=='D' :\n",
    "    basic=30000\n",
    "    oa=5000\n",
    "    da=0.5*basic\n",
    "    epf=0.11*basic\n",
    "    if city==\"class-1\"   :\n",
    "        hra=basic*0.3\n",
    "    elif city==\"class-2\" :\n",
    "        hra=0.2*basic\n",
    "    elif city==\"class-3\" :\n",
    "        hra=0.1*basic\n",
    "    else :        \n",
    "        print(\"ENTER VALID CLASS\")\n",
    "    \n",
    "    grosspay=basic+hra+da+oa+ta-pt-epf\n",
    "    \n",
    "elif grade=='E' :\n",
    "    basic=20000\n",
    "    oa=4000\n",
    "    da=0.5*basic\n",
    "    epf=0.11*basic\n",
    "    if city==\"class-1\"   :\n",
    "        hra=basic*0.3\n",
    "    elif city==\"class-2\" :\n",
    "        hra=0.2*basic\n",
    "    elif city==\"class-3\" :\n",
    "        hra=0.1*basic\n",
    "    else :        \n",
    "        print(\"ENTER VALID CLASS\")\n",
    "    \n",
    "    grosspay=basic+hra+da+oa+ta-pt-epf\n",
    "    \n",
    "elif grade=='F' :\n",
    "    basic=10000\n",
    "    oa=3000\n",
    "    da=0.5*basic\n",
    "    epf=0.11*basic\n",
    "    if city==\"class-1\"   :\n",
    "        hra=basic*0.3\n",
    "    elif city==\"class-2\" :\n",
    "        hra=0.2*basic\n",
    "    elif city==\"class-3\" :\n",
    "        hra=0.1*basic\n",
    "    else :        \n",
    "        print(\"ENTER VALID CLASS\")\n",
    "    \n",
    "    grosspay=basic+hra+da+oa+ta-pt-epf\n",
    "       \n",
    "       \n",
    "ap=grosspay*12 \n",
    "print(ap)\n",
    "print(\"GROSS PAY =\",grosspay)\n",
    "print(\"ANUAL PAY =\",grosspay*12)\n",
    "if ap < 250000 :\n",
    "          print(\"NOT TAX\")\n",
    "elif ap>=250001 or ap<=500000 :\n",
    "          tax=ap*0.03\n",
    "elif ap>=500001 or ap<=750000 :\n",
    "          tax=(ap*0.10+12500)\n",
    "elif ap>=750001 or ap<=1000000 :\n",
    "          tax=(ap*0.15)+37500        \n",
    "elif ap>=1000001 or ap<=1250000 :\n",
    "          tax=(ap*0.20)+75000      \n",
    "elif ap>=1250001 or ap<=1500000 :\n",
    "          tax=(ap*0.25)+125000\n",
    "elif ap>=1500001 :\n",
    "          tax=(ap*0.30)+187000      \n",
    "else :\n",
    "          print(\"NOT VALID ANNUAL PAY FOUND\")\n",
    "print(\"TAX\",tax)      \n",
    "\n",
    "           "
   ]
  },
  {
   "cell_type": "code",
   "execution_count": null,
   "metadata": {},
   "outputs": [],
   "source": [
    "**PATTERN**\n",
    "\n",
    "1)\n",
    "*\n",
    "**\n",
    "***\n",
    "****"
   ]
  },
  {
   "cell_type": "code",
   "execution_count": 26,
   "metadata": {},
   "outputs": [
    {
     "name": "stdout",
     "output_type": "stream",
     "text": [
      "ENTER NUMBER5\n",
      "* \n",
      "* * \n",
      "* * * \n",
      "* * * * \n",
      "* * * * * \n"
     ]
    }
   ],
   "source": [
    "n=int(input(\"ENTER NUMBER\"))\n",
    "for i in range(1,n+1) :\n",
    "    for j in range(1,i+1) :\n",
    "         print(\"*\",end=\" \")\n",
    "    print()"
   ]
  },
  {
   "cell_type": "code",
   "execution_count": 27,
   "metadata": {},
   "outputs": [
    {
     "name": "stdout",
     "output_type": "stream",
     "text": [
      "ENTER NUMBER5\n",
      "1 \n",
      "2 2 \n",
      "3 3 3 \n",
      "4 4 4 4 \n",
      "5 5 5 5 5 \n"
     ]
    }
   ],
   "source": [
    "n=int(input(\"ENTER NUMBER\"))\n",
    "for i in range(1,n+1) :\n",
    "    for j in range(1,i+1) :\n",
    "         print(i,end=\" \")\n",
    "    print()"
   ]
  },
  {
   "cell_type": "code",
   "execution_count": 1,
   "metadata": {},
   "outputs": [
    {
     "name": "stdout",
     "output_type": "stream",
     "text": [
      "ENTER NUMBER5\n",
      "1 \n",
      "1 2 \n",
      "1 2 3 \n",
      "1 2 3 4 \n",
      "1 2 3 4 5 \n"
     ]
    }
   ],
   "source": [
    "n=int(input(\"ENTER NUMBER\"))\n",
    "for i in range(1,n+1) :\n",
    "    for j in range(1,i+1) :\n",
    "         print(j,end=\" \")\n",
    "    print()"
   ]
  },
  {
   "cell_type": "code",
   "execution_count": 2,
   "metadata": {},
   "outputs": [
    {
     "name": "stdout",
     "output_type": "stream",
     "text": [
      "ENTER NUMBER 5\n",
      "A \n",
      "A B \n",
      "A B C \n",
      "A B C D \n",
      "A B C D E \n"
     ]
    }
   ],
   "source": [
    "n=int(input(\"ENTER NUMBER \"))\n",
    "for i in range(1,n+1) :\n",
    "    for j in range(1,i+1) :\n",
    "         print(chr(64+j),end=\" \")\n",
    "    print()"
   ]
  },
  {
   "cell_type": "code",
   "execution_count": 5,
   "metadata": {},
   "outputs": [
    {
     "name": "stdout",
     "output_type": "stream",
     "text": [
      "ENTER NUMBER5\n",
      "1 \n",
      "0 1 \n",
      "1 0 1 \n",
      "0 1 0 1 \n",
      "1 0 1 0 1 \n"
     ]
    }
   ],
   "source": [
    "n=int(input(\"ENTER NUMBER\"))\n",
    "for i in range(1,n+1) :\n",
    "    for j in range(1,i+1) :\n",
    "        if (i+j)%2==0 :\n",
    "             print(1,end=\" \")\n",
    "        else :\n",
    "            print(0,end=\" \")\n",
    "    print()"
   ]
  },
  {
   "cell_type": "code",
   "execution_count": 6,
   "metadata": {},
   "outputs": [
    {
     "name": "stdout",
     "output_type": "stream",
     "text": [
      "ENTER NUMBER5\n",
      "1 \n",
      "0 1 \n",
      "1 0 1 \n",
      "0 1 0 1 \n",
      "1 0 1 0 1 \n"
     ]
    }
   ],
   "source": [
    "n=int(input(\"ENTER NUMBER\"))\n",
    "for i in range(1,n+1) :\n",
    "    for j in range(1,i+1) :\n",
    "        print((i+j-1)%2,end=\" \")\n",
    "    print()"
   ]
  },
  {
   "cell_type": "code",
   "execution_count": 2,
   "metadata": {},
   "outputs": [
    {
     "name": "stdout",
     "output_type": "stream",
     "text": [
      "ENTER NUMBER5\n",
      "* \n",
      "# # \n",
      "* * * \n",
      "# # # # \n",
      "* * * * * \n"
     ]
    }
   ],
   "source": [
    "n=int(input(\"ENTER NUMBER\"))\n",
    "for i in range(1,n+1) :\n",
    "    for j in range(1,i+1) :\n",
    "        if (i)%2==0 :\n",
    "             print(\"#\",end=\" \")\n",
    "        else :\n",
    "            print(\"*\",end=\" \")\n",
    "    print()"
   ]
  },
  {
   "cell_type": "code",
   "execution_count": 4,
   "metadata": {},
   "outputs": [
    {
     "name": "stdout",
     "output_type": "stream",
     "text": [
      "ENTER NUMBER5\n",
      "* * * * * \n",
      "* * * * \n",
      "* * * \n",
      "* * \n",
      "* \n"
     ]
    }
   ],
   "source": [
    "n=int(input(\"ENTER NUMBER\"))\n",
    "temp=n\n",
    "for i in range(1,n+1) :\n",
    "    for j in range(i,n+1) :\n",
    "         print(\"*\",end=\" \")\n",
    "    print()"
   ]
  },
  {
   "cell_type": "code",
   "execution_count": 19,
   "metadata": {},
   "outputs": [
    {
     "name": "stdout",
     "output_type": "stream",
     "text": [
      "ENTER NUMBER5\n",
      "5 4 3 2 1 \n",
      "5 4 3 2 \n",
      "5 4 3 \n",
      "5 4 \n",
      "5 \n"
     ]
    }
   ],
   "source": [
    "n=int(input(\"ENTER NUMBER\"))\n",
    "temp=n\n",
    "for i in range(1,n+1) :\n",
    "    for j in range(i,n+1) :\n",
    "         print(n+i-j,end=\" \")\n",
    "    print()"
   ]
  },
  {
   "cell_type": "code",
   "execution_count": 20,
   "metadata": {},
   "outputs": [
    {
     "name": "stdout",
     "output_type": "stream",
     "text": [
      "ENTER NUMBER5\n",
      "1 2 3 4 5 \n",
      "2 3 4 5 \n",
      "3 4 5 \n",
      "4 5 \n",
      "5 \n"
     ]
    }
   ],
   "source": [
    "n=int(input(\"ENTER NUMBER\"))\n",
    "temp=n\n",
    "for i in range(1,n+1) :\n",
    "    for j in range(i,n+1) :\n",
    "         print(j,end=\" \")\n",
    "    print()"
   ]
  },
  {
   "cell_type": "code",
   "execution_count": 21,
   "metadata": {},
   "outputs": [
    {
     "name": "stdout",
     "output_type": "stream",
     "text": [
      "ENTER NUMBER5\n",
      "1 2 3 4 5 \n",
      "1 2 3 4 \n",
      "1 2 3 \n",
      "1 2 \n",
      "1 \n"
     ]
    }
   ],
   "source": [
    "n=int(input(\"ENTER NUMBER\"))\n",
    "temp=n\n",
    "for i in range(1,n+1) :\n",
    "    for j in range(i,n+1) :\n",
    "         print(j-i+1,end=\" \")\n",
    "    print()"
   ]
  },
  {
   "cell_type": "code",
   "execution_count": 34,
   "metadata": {},
   "outputs": [
    {
     "name": "stdout",
     "output_type": "stream",
     "text": [
      "ENTER NUMBER5\n",
      "     * \n",
      "    * * \n",
      "   * * * \n",
      "  * * * * \n",
      " * * * * * \n"
     ]
    }
   ],
   "source": [
    "n=int(input(\"ENTER NUMBER\"))\n",
    "temp=n\n",
    "for i in range(1,n+1) :\n",
    "    for j in range(i,n+1) :\n",
    "        print(\" \",end=\"\")\n",
    "    for j in range(1,i+1) :\n",
    "        print(\"*\",end=\" \")\n",
    "    print()"
   ]
  },
  {
   "cell_type": "code",
   "execution_count": null,
   "metadata": {},
   "outputs": [],
   "source": [
    "n=int(input(\"ENTER NUMBER\"))\n",
    "temp=n\n",
    "for i in range(1,n+1) :\n",
    "    for j in range(i,n+1) :\n",
    "        print(\" \",end=\"\")\n",
    "    for j in range(1,i+1) :\n",
    "        print(\"*\",end=\" \")\n",
    "    print()"
   ]
  }
 ],
 "metadata": {
  "kernelspec": {
   "display_name": "Python 3",
   "language": "python",
   "name": "python3"
  },
  "language_info": {
   "codemirror_mode": {
    "name": "ipython",
    "version": 3
   },
   "file_extension": ".py",
   "mimetype": "text/x-python",
   "name": "python",
   "nbconvert_exporter": "python",
   "pygments_lexer": "ipython3",
   "version": "3.8.5"
  }
 },
 "nbformat": 4,
 "nbformat_minor": 4
}
