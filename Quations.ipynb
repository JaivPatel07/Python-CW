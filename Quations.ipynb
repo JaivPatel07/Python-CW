{
 "cells": [
  {
   "cell_type": "markdown",
   "metadata": {},
   "source": [
    "\n",
    "    Q.WPP to accept thr age gender and number of date and display wiges the according to given \n",
    "       Age                  gender          wages/day\n",
    "    >=18 and < 30             M               700\n",
    "                              F               750\n",
    "\n",
    "    >=30 and <=40             M               800\n",
    "                              F               850\n"
   ]
  },
  {
   "cell_type": "code",
   "execution_count": 10,
   "metadata": {},
   "outputs": [
    {
     "name": "stdout",
     "output_type": "stream",
     "text": [
      "Enter your age:32\n",
      "Enter your gender M or F:m\n",
      "Enter no of days:34\n",
      "27200\n"
     ]
    }
   ],
   "source": [
    "age=int(input(\"Enter your age:\"))\n",
    "gender=input(\"Enter your gender M or F:\")\n",
    "days=int(input(\"Enter no of days:\"))\n",
    "\n",
    "if age>=18 and age<30:\n",
    "    if gender=='m' or gender=='M':\n",
    "        print(days*700)\n",
    "    elif gender=='f' or gender=='F':\n",
    "        print(days*750)\n",
    "    else:\n",
    "        print(\"Enter valid input\")\n",
    "elif age>=30 and age<=40:\n",
    "    if gender=='m' or gender=='M':\n",
    "        print(days*800)\n",
    "    elif gender=='f' or gender=='F':\n",
    "        print(days*850)\n",
    "    else:\n",
    "        print(\"Enter valid input\")\n",
    "else:\n",
    "    print(\"Enter valid age( 18 to 40)\")"
   ]
  },
  {
   "cell_type": "markdown",
   "metadata": {},
   "source": [
    "Q. WPP to accept 3 sides of tringle and check wheather it is Equilateral,Isosceles,Scalen triangle\n"
   ]
  },
  {
   "cell_type": "code",
   "execution_count": 15,
   "metadata": {},
   "outputs": [
    {
     "name": "stdout",
     "output_type": "stream",
     "text": [
      "Enter side 1:1\n",
      "Enter side 2:1\n",
      "Enter side 3:4\n",
      "Isosceles triangel\n"
     ]
    }
   ],
   "source": [
    "a=int(input(\"Enter side 1:\"))\n",
    "b=int(input(\"Enter side 2:\"))\n",
    "c=int(input(\"Enter side 3:\"))\n",
    "if a==b==c:\n",
    "    print(\"Equilateral triangel\")\n",
    "elif a==b or b==c or a==c:\n",
    "    print(\"Isosceles triangel\")\n",
    "else:\n",
    "    print(\"Scalen triangel\")\n"
   ]
  },
  {
   "cell_type": "markdown",
   "metadata": {},
   "source": [
    "Q. sum of user 0 to number"
   ]
  },
  {
   "cell_type": "code",
   "execution_count": 23,
   "metadata": {},
   "outputs": [
    {
     "name": "stdout",
     "output_type": "stream",
     "text": [
      "Enter number:6\n",
      "21\n"
     ]
    }
   ],
   "source": [
    "n=int(input(\"Enter number:\"))\n",
    "sum=0\n",
    "for i in range(n):\n",
    "    sum=sum+i+1\n",
    "print(sum)"
   ]
  },
  {
   "cell_type": "markdown",
   "metadata": {},
   "source": [
    "Q. take number of input from user give avg"
   ]
  },
  {
   "cell_type": "code",
   "execution_count": 30,
   "metadata": {},
   "outputs": [
    {
     "name": "stdout",
     "output_type": "stream",
     "text": [
      "Enter number:5\n",
      "Enter val 1:1\n",
      "Enter val 2:2\n",
      "Enter val 3:3\n",
      "Enter val 4:4\n",
      "Enter val 5:5\n",
      "3.0\n"
     ]
    }
   ],
   "source": [
    "n=int(input(\"Enter number:\"))\n",
    "sum=0\n",
    "r=n\n",
    "i=1\n",
    "while n>0:\n",
    "    sum=sum+int(input(f\"Enter val {i}:\"))\n",
    "    n=n-1\n",
    "    i=i+1\n",
    "print(sum/r)"
   ]
  },
  {
   "cell_type": "markdown",
   "metadata": {},
   "source": [
    "Q. addition of given number<br>\n",
    "eg 2345 2+3+4+5"
   ]
  },
  {
   "cell_type": "code",
   "execution_count": 35,
   "metadata": {},
   "outputs": [
    {
     "name": "stdout",
     "output_type": "stream",
     "text": [
      "Enter number:4356\n",
      "sum=18\n"
     ]
    }
   ],
   "source": [
    "n=int(input(\"Enter number:\"))\n",
    "sum=0\n",
    "while n>0:\n",
    "    sum=sum+n%10\n",
    "    n=n//10\n",
    "print(f\"sum={sum}\")"
   ]
  },
  {
   "cell_type": "code",
   "execution_count": null,
   "metadata": {},
   "outputs": [],
   "source": [
    "Q.reversed number"
   ]
  },
  {
   "cell_type": "code",
   "execution_count": 56,
   "metadata": {},
   "outputs": [
    {
     "name": "stdout",
     "output_type": "stream",
     "text": [
      "Enter number:123\n",
      "321\n",
      "321\n",
      "321\n"
     ]
    }
   ],
   "source": [
    "n=input(\"Enter number:\")\n",
    "# print(n[::-1])\n",
    "# for i in range(len(n)-1,-1,-1):\n",
    "#     print(n[i],end=\"\")\n",
    "    \n",
    "rev=0\n",
    "print()\n",
    "n=int(n)\n",
    "while n!=0:\n",
    "    rev=rev*10+n%10\n",
    "    n//=10\n",
    "print(rev)"
   ]
  },
  {
   "cell_type": "markdown",
   "metadata": {},
   "source": [
    "Q.WPP to armstrong or not"
   ]
  },
  {
   "cell_type": "code",
   "execution_count": 47,
   "metadata": {},
   "outputs": [
    {
     "name": "stdout",
     "output_type": "stream",
     "text": [
      "enter number:153\n",
      "153\n",
      "armstrong\n"
     ]
    }
   ],
   "source": [
    "n=input(\"enter number:\")\n",
    "l=len(n)\n",
    "n=int(n)\n",
    "r=n\n",
    "sum=0;\n",
    "while n>0:\n",
    "    sum=sum+((n%10)**l)\n",
    "    n=n//10\n",
    "print(sum)\n",
    "if sum==r:\n",
    "    print(\"armstrong\")\n",
    "else:\n",
    "    print(\"Not armstromg\")\n",
    "    "
   ]
  },
  {
   "cell_type": "markdown",
   "metadata": {},
   "source": [
    "Q.prime or not"
   ]
  },
  {
   "cell_type": "code",
   "execution_count": 57,
   "metadata": {},
   "outputs": [
    {
     "name": "stdout",
     "output_type": "stream",
     "text": [
      "Enter number:567\n",
      "Not Prime\n"
     ]
    }
   ],
   "source": [
    "n=int(input(\"Enter number:\"))\n",
    "b=True\n",
    "for i in range(2,n//2):\n",
    "    if n%i==0:\n",
    "        b=False\n",
    "        print(\"Not Prime\")\n",
    "        break\n",
    "if b:\n",
    "    print(\"Prime\")"
   ]
  },
  {
   "cell_type": "markdown",
   "metadata": {},
   "source": [
    "Q. prime number between numbers"
   ]
  },
  {
   "cell_type": "code",
   "execution_count": 67,
   "metadata": {},
   "outputs": [
    {
     "name": "stdout",
     "output_type": "stream",
     "text": [
      "Enter start number:2\n",
      "Enter end number:100\n",
      "2\n",
      "3\n",
      "5\n",
      "7\n",
      "11\n",
      "13\n",
      "17\n",
      "19\n",
      "23\n",
      "29\n",
      "31\n",
      "37\n",
      "41\n",
      "43\n",
      "47\n",
      "53\n",
      "59\n",
      "61\n",
      "67\n",
      "71\n",
      "73\n",
      "79\n",
      "83\n",
      "89\n",
      "97\n",
      "COUNT= 25\n"
     ]
    }
   ],
   "source": [
    "s=int(input(\"Enter start number:\"))\n",
    "e=int(input(\"Enter end number:\"))\n",
    "c=0\n",
    "for j in range(s,e):\n",
    "    b=True\n",
    "    for i in range(2,j//2+1):\n",
    "        if j%i==0:\n",
    "            b=False\n",
    "            break\n",
    "    if b:\n",
    "        print(j)\n",
    "        c=c+1\n",
    "print(\"COUNT=\",c)"
   ]
  },
  {
   "cell_type": "markdown",
   "metadata": {},
   "source": [
    "Q. happy number"
   ]
  },
  {
   "cell_type": "code",
   "execution_count": 8,
   "metadata": {},
   "outputs": [
    {
     "name": "stdout",
     "output_type": "stream",
     "text": [
      "Enter number:333\n",
      "Not Happy number\n"
     ]
    }
   ],
   "source": [
    "n=int(input(\"Enter number:\"))\n",
    "\n",
    "while True:\n",
    "    sum=0\n",
    "    while n!=0:\n",
    "        sum=sum+(n%10)**2\n",
    "        n=n//10\n",
    "    if sum==1:\n",
    "        print(\"Happy number\")\n",
    "        break\n",
    "    if sum==4:\n",
    "        print(\"Not Happy number\")\n",
    "        break\n",
    "    n=sum\n",
    "        "
   ]
  },
  {
   "cell_type": "code",
   "execution_count": null,
   "metadata": {},
   "outputs": [],
   "source": []
  }
 ],
 "metadata": {
  "kernelspec": {
   "display_name": "Python 3",
   "language": "python",
   "name": "python3"
  },
  "language_info": {
   "codemirror_mode": {
    "name": "ipython",
    "version": 3
   },
   "file_extension": ".py",
   "mimetype": "text/x-python",
   "name": "python",
   "nbconvert_exporter": "python",
   "pygments_lexer": "ipython3",
   "version": "3.8.5"
  }
 },
 "nbformat": 4,
 "nbformat_minor": 4
}
