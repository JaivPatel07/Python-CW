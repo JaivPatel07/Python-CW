{
 "cells": [
  {
   "cell_type": "markdown",
   "metadata": {},
   "source": [
    "**COMPARISION OPERATORS (RELATIONAL OPERATORS)**\n",
    "\n",
    "> -> MORE THAN\n",
    "< -> LESS THAN\n",
    ">= ->More than or equal to\n",
    "<= ->Less than or equal to\n",
    "== ->Equal to\n",
    "!= ->Not equal to"
   ]
  },
  {
   "cell_type": "code",
   "execution_count": 1,
   "metadata": {},
   "outputs": [
    {
     "name": "stdout",
     "output_type": "stream",
     "text": [
      "False\n",
      "True\n",
      "False\n",
      "True\n",
      "False\n",
      "True\n"
     ]
    }
   ],
   "source": [
    "a=10\n",
    "b=20\n",
    "print(a>b)\n",
    "print(a<b)\n",
    "print(a>=b)\n",
    "print(a<=b)\n",
    "print(a==b)\n",
    "print(a!=b)"
   ]
  },
  {
   "cell_type": "code",
   "execution_count": 3,
   "metadata": {},
   "outputs": [
    {
     "name": "stdout",
     "output_type": "stream",
     "text": [
      "False\n",
      "True\n",
      "False\n",
      "True\n",
      "False\n",
      "True\n"
     ]
    }
   ],
   "source": [
    "a=\"ARMAN\"\n",
    "b=\"ARYAN\"\n",
    "print(a>b)\n",
    "print(a<b)\n",
    "print(a>=b)\n",
    "print(a<=b)\n",
    "print(a==b)\n",
    "print(a!=b)"
   ]
  },
  {
   "cell_type": "markdown",
   "metadata": {},
   "source": [
    "**LOGICAL OPERATORS** : AND,OR,NOT\n",
    "\n",
    "1) Boolean Type Behaviour\n",
    "\n",
    "and -> If both arguments are true then only result is True else False\n",
    "or  -> If atleast one argument is True then result is True.\n",
    "not -> complement\n",
    "\n",
    "2) Non-Boolean Type Behaviour\n",
    "\n",
    "- 0 means False\n",
    "- non-zero means True\n",
    "- empty-string means False\n",
    "x and y ->If x is evaluates to False then return x otherwise return y.\n",
    "x and y ->If x is evaluates to True then result is x otherwise y."
   ]
  },
  {
   "cell_type": "code",
   "execution_count": 5,
   "metadata": {},
   "outputs": [
    {
     "name": "stdout",
     "output_type": "stream",
     "text": [
      "False\n",
      "True\n",
      "True\n",
      "False\n",
      "False\n"
     ]
    }
   ],
   "source": [
    "#Boolean Type\n",
    "print(True and False)\n",
    "print(True or False)\n",
    "print(not False)\n",
    "print(not True)\n",
    "print(True and False and True and True)"
   ]
  },
  {
   "cell_type": "code",
   "execution_count": 10,
   "metadata": {},
   "outputs": [
    {
     "name": "stdout",
     "output_type": "stream",
     "text": [
      "20\n",
      "10\n",
      "20\n",
      "True\n",
      "False\n"
     ]
    }
   ],
   "source": [
    "#Non-Boolean Type\n",
    "print(10 and 20)\n",
    "print(10 or 20)\n",
    "print(0 or 20)\n",
    "print(not 0)\n",
    "print(not 20)"
   ]
  },
  {
   "cell_type": "markdown",
   "metadata": {},
   "source": [
    "**Ternary or conditional operators**\n",
    "\n",
    "syntax : x=first value if condition else second value\n",
    "        - if condition true then first value will be considered else\n",
    "          second value will be considred\n",
    "          "
   ]
  },
  {
   "cell_type": "code",
   "execution_count": 11,
   "metadata": {},
   "outputs": [
    {
     "name": "stdout",
     "output_type": "stream",
     "text": [
      "40\n"
     ]
    }
   ],
   "source": [
    "a=10\n",
    "b=20\n",
    "x=30 if a>b else 40\n",
    "print(x)"
   ]
  },
  {
   "cell_type": "markdown",
   "metadata": {},
   "source": [
    "**ASSIGNMENT OPERATORS**\n",
    "\n",
    "-> We can use assignment operator to assign value to the variable"
   ]
  },
  {
   "cell_type": "code",
   "execution_count": 18,
   "metadata": {},
   "outputs": [
    {
     "name": "stdout",
     "output_type": "stream",
     "text": [
      "20\n",
      "10\n",
      "100\n",
      "10.0\n",
      "1.0\n",
      "1.0\n"
     ]
    }
   ],
   "source": [
    "x=10\n",
    "x+=10\n",
    "print(x)\n",
    "x-=10\n",
    "print(x)\n",
    "x*=10\n",
    "print(x)\n",
    "x/=10\n",
    "print(x)\n",
    "x//=10\n",
    "print(x)\n",
    "x**=10\n",
    "print(x)"
   ]
  },
  {
   "cell_type": "markdown",
   "metadata": {},
   "source": [
    "**MEMBERSHIP OPERATOR**\n",
    "\n",
    "-> To check whether the given object is pressent in the given collection.\n",
    "  (String,List,Tuple,dict,set)\n",
    "  \n",
    "in -> returns True if given object present in the specified collection.\n",
    "not in -> returns Ture if given object is not present in the specified collection"
   ]
  },
  {
   "cell_type": "code",
   "execution_count": 19,
   "metadata": {},
   "outputs": [
    {
     "name": "stdout",
     "output_type": "stream",
     "text": [
      "True\n",
      "True\n",
      "False\n",
      "True\n"
     ]
    }
   ],
   "source": [
    "x=\"Hello learing python is very easy\"\n",
    "print(\"i\" in x)\n",
    "print(\"python\" in x)\n",
    "print(\"d\" in x)\n",
    "print(\"d\" not in x)"
   ]
  },
  {
   "cell_type": "code",
   "execution_count": 21,
   "metadata": {},
   "outputs": [
    {
     "name": "stdout",
     "output_type": "stream",
     "text": [
      "True\n"
     ]
    }
   ],
   "source": [
    "a=[1,2,3,4,5]\n",
    "print( 3 in a)"
   ]
  },
  {
   "cell_type": "code",
   "execution_count": 28,
   "metadata": {},
   "outputs": [
    {
     "name": "stdout",
     "output_type": "stream",
     "text": [
      "3\n"
     ]
    }
   ],
   "source": [
    "print(7 and 0 or 5 and 3 or 7/0)"
   ]
  },
  {
   "cell_type": "code",
   "execution_count": 35,
   "metadata": {},
   "outputs": [
    {
     "data": {
      "text/plain": [
       "True"
      ]
     },
     "execution_count": 35,
     "metadata": {},
     "output_type": "execute_result"
    }
   ],
   "source": [
    "5 and False or 3/0\n",
    "5 and True or 3/0"
   ]
  },
  {
   "cell_type": "code",
   "execution_count": 36,
   "metadata": {},
   "outputs": [
    {
     "data": {
      "text/plain": [
       "'False'"
      ]
     },
     "execution_count": 36,
     "metadata": {},
     "output_type": "execute_result"
    }
   ],
   "source": [
    "\"1\" in \"123\" and \"False\" or True"
   ]
  },
  {
   "cell_type": "code",
   "execution_count": 37,
   "metadata": {},
   "outputs": [
    {
     "name": "stdout",
     "output_type": "stream",
     "text": [
      "0.0\n"
     ]
    }
   ],
   "source": [
    "print(7*5**2/True*False)"
   ]
  },
  {
   "cell_type": "code",
   "execution_count": 38,
   "metadata": {},
   "outputs": [
    {
     "data": {
      "text/plain": [
       "3.0"
      ]
     },
     "execution_count": 38,
     "metadata": {},
     "output_type": "execute_result"
    }
   ],
   "source": [
    "3/True"
   ]
  },
  {
   "cell_type": "code",
   "execution_count": 40,
   "metadata": {},
   "outputs": [
    {
     "data": {
      "text/plain": [
       "102.5"
      ]
     },
     "execution_count": 40,
     "metadata": {},
     "output_type": "execute_result"
    }
   ],
   "source": [
    "10*4+5**2**2/10"
   ]
  },
  {
   "cell_type": "code",
   "execution_count": 42,
   "metadata": {},
   "outputs": [
    {
     "name": "stdout",
     "output_type": "stream",
     "text": [
      "True\n"
     ]
    }
   ],
   "source": [
    "print(5==5.0 or 10 and 5 or 5 == 5.0 and 7!= 7.0)"
   ]
  },
  {
   "cell_type": "code",
   "execution_count": 45,
   "metadata": {},
   "outputs": [
    {
     "name": "stdout",
     "output_type": "stream",
     "text": [
      "This is True\n"
     ]
    }
   ],
   "source": [
    "new = (1 and \"True\") and (\"False\" or TRAIN)\n",
    "str =\"This statement is \"+ new\n",
    "print(\"This is False \" if \"false\" in new else \"This is True\")"
   ]
  },
  {
   "cell_type": "markdown",
   "metadata": {},
   "source": [
    "1) ord() Char to Ascii\n",
    "\n",
    "2) chr() Ascii to char"
   ]
  },
  {
   "cell_type": "code",
   "execution_count": 47,
   "metadata": {},
   "outputs": [
    {
     "name": "stdout",
     "output_type": "stream",
     "text": [
      "65\n",
      "A\n"
     ]
    }
   ],
   "source": [
    "print(ord(\"A\"))\n",
    "print(chr(65))\n"
   ]
  },
  {
   "cell_type": "code",
   "execution_count": 50,
   "metadata": {},
   "outputs": [
    {
     "name": "stdout",
     "output_type": "stream",
     "text": [
      "a\n",
      "b\n",
      "c\n",
      "d\n",
      "e\n",
      "f\n",
      "g\n",
      "h\n",
      "i\n",
      "j\n",
      "k\n",
      "l\n",
      "m\n",
      "n\n",
      "o\n",
      "p\n",
      "q\n",
      "r\n",
      "s\n",
      "t\n",
      "u\n",
      "v\n",
      "w\n",
      "x\n",
      "y\n",
      "z\n"
     ]
    }
   ],
   "source": [
    "for i in range (ord(\"a\"),ord(\"z\")+1):\n",
    "      print(chr(i))"
   ]
  },
  {
   "cell_type": "code",
   "execution_count": 53,
   "metadata": {},
   "outputs": [
    {
     "name": "stdout",
     "output_type": "stream",
     "text": [
      "A\n",
      "B\n",
      "C\n",
      "D\n",
      "E\n",
      "F\n",
      "G\n",
      "H\n",
      "I\n",
      "J\n",
      "K\n",
      "L\n",
      "M\n",
      "N\n",
      "O\n",
      "P\n",
      "Q\n",
      "R\n",
      "S\n",
      "T\n",
      "U\n",
      "V\n",
      "W\n",
      "X\n",
      "Y\n",
      "Z\n"
     ]
    }
   ],
   "source": [
    "for i in range(65,91):\n",
    "    print(chr(i))"
   ]
  },
  {
   "cell_type": "code",
   "execution_count": 69,
   "metadata": {},
   "outputs": [
    {
     "name": "stdout",
     "output_type": "stream",
     "text": [
      "ENTER DAYS450\n",
      "1  year 2 months  25 days\n"
     ]
    }
   ],
   "source": [
    "# write python progam to conver given date in year month and days\n",
    "a=int(input(\"ENTER DAYS\"))\n",
    "y=a//365\n",
    "m=(a%365)//30\n",
    "d=(a%365)%30\n",
    "\n",
    "print(y ,\" year\" , m , \"months \" ,d, \"days\")"
   ]
  },
  {
   "cell_type": "code",
   "execution_count": 74,
   "metadata": {},
   "outputs": [
    {
     "name": "stdout",
     "output_type": "stream",
     "text": [
      "ENTER AMOUNT1780\n",
      "3 * 500  1 * 200  0 * 100  1 * 50  1 * 20  1 * 10\n"
     ]
    }
   ],
   "source": [
    "# 10 20 50 100 200 500\n",
    "\n",
    "a=int(input(\"ENTER AMOUNT\"))\n",
    "n500=a//500\n",
    "n200=(a%500)//200\n",
    "n100=((a%500)%200)//100\n",
    "n50=(((a%500)%200)%100)//50\n",
    "n20=((((a%500)%200)%100)%50)//20\n",
    "n10=(((((a%500)%200)%100)%50)%20)//10\n",
    "\n",
    "print( n500,\"* 500 \",n200,\"* 200 \",n100,\"* 100 \",n50,\"* 50 \",n20,\"* 20 \",n10,\"* 10\")"
   ]
  },
  {
   "cell_type": "code",
   "execution_count": null,
   "metadata": {},
   "outputs": [],
   "source": []
  },
  {
   "cell_type": "code",
   "execution_count": null,
   "metadata": {},
   "outputs": [],
   "source": []
  }
 ],
 "metadata": {
  "kernelspec": {
   "display_name": "Python 3",
   "language": "python",
   "name": "python3"
  },
  "language_info": {
   "codemirror_mode": {
    "name": "ipython",
    "version": 3
   },
   "file_extension": ".py",
   "mimetype": "text/x-python",
   "name": "python",
   "nbconvert_exporter": "python",
   "pygments_lexer": "ipython3",
   "version": "3.8.5"
  }
 },
 "nbformat": 4,
 "nbformat_minor": 4
}
